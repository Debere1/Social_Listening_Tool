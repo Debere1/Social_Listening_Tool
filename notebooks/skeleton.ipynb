{
  "cells": [
    {
      "cell_type": "markdown",
      "metadata": {
        "id": "HDVWT9f8xGpp"
      },
      "source": [
        "<h1>The Desert Eagle RMB Challenge</h1>"
      ]
    },
    {
      "cell_type": "markdown",
      "metadata": {
        "id": "DyQZ1YPZxGps"
      },
      "source": []
    },
    {
      "cell_type": "markdown",
      "metadata": {
        "id": "SRxOf3NqxGpt"
      },
      "source": [
        "<h2>Introduction</h2>"
      ]
    },
    {
      "cell_type": "markdown",
      "metadata": {
        "id": "1EQD1FZ9xGpt"
      },
      "source": []
    },
    {
      "cell_type": "markdown",
      "metadata": {
        "id": "UpfGvwJHxGpu"
      },
      "source": [
        "<h2>Problem Statement</h2>"
      ]
    },
    {
      "cell_type": "markdown",
      "metadata": {
        "id": "rTktKEMUxGpu"
      },
      "source": []
    },
    {
      "cell_type": "markdown",
      "metadata": {
        "id": "s28yYyS1xGpu"
      },
      "source": [
        "<h2 id='top'>Table of Contents</h2>"
      ]
    },
    {
      "cell_type": "markdown",
      "metadata": {
        "id": "aLryj3QdxGpu"
      },
      "source": [
        "<h5>\n",
        "<a href=\"#Importing_Dependencies\">1. Importing Dependencies and Data</a></h5>\n",
        "<h5>\n",
        "<a href='#Exploratory_Non-Graph'>2. Exploratory Data Analysis - Non-Graphical</a></h5>\n",
        "<h5>\n",
        "<a href= '#Feature_Engineering'>3. Feature Engineering</a></h5>\n",
        "<h5>\n",
        "<a href='#Exploratory_Graph'>4. Exploratory Data Analysis - Graphical</a></h5>\n",
        "<h5>\n",
        "<a href='#Modeling'>5. Modeling</a></h5>\n",
        "<h5>\n",
        "<a href='#Model_Eval'>6. Model Evaluation</a></h5>\n",
        "<h5>\n",
        "<a href='#Conclusion'>7. Conclusion</a></h5>\n",
        "<h5>\n",
        "<a href='#Acknowledge'>8. Acknowledgement</a></h5>"
      ]
    },
    {
      "cell_type": "markdown",
      "metadata": {
        "id": "2Qz3siTmxGpv"
      },
      "source": [
        "<h3 id='Importing_Dependencies'>1. Importing Dependencies <h6><a href='#top'>Back to top</a></h6></h3>"
      ]
    },
    {
      "cell_type": "code",
      "execution_count": null,
      "metadata": {
        "id": "3PYd941kxGpw"
      },
      "outputs": [],
      "source": [
        "import numpy as np\n",
        "import pandas as pd\n",
        "import matplotlib.pyplot as plt\n",
        "import seaborn as sns\n",
        "import plotly.express as px"
      ]
    },
    {
      "cell_type": "markdown",
      "metadata": {
        "id": "iL-il2DZxGpw"
      },
      "source": [
        "<h5>1.1 Importing Data <h6><a href='#top'>Back to top</a></h6></h5>"
      ]
    },
    {
      "cell_type": "code",
      "source": [],
      "metadata": {
        "id": "yD8eVFH3Dryj"
      },
      "execution_count": null,
      "outputs": []
    },
    {
      "cell_type": "markdown",
      "metadata": {
        "id": "sFDqPRJ3xGpx"
      },
      "source": [
        "<h3 id='Exploratory_Non-Graph'>2. Exploratory Data Analysis - Non-Graphical <h6><a href='#top'>Back to top</a></h6></h3>"
      ]
    },
    {
      "cell_type": "code",
      "source": [],
      "metadata": {
        "id": "vE0lnS7l3H73"
      },
      "execution_count": null,
      "outputs": []
    },
    {
      "cell_type": "code",
      "source": [],
      "metadata": {
        "id": "uzxLkTa-3HzI"
      },
      "execution_count": null,
      "outputs": []
    },
    {
      "cell_type": "markdown",
      "metadata": {
        "id": "8UrK2N9QxGpx"
      },
      "source": [
        "<h3 id='Feature_Engineering'>3. Feature Engineering <h6><a href='#top'>Back to top</a></h6></h3>"
      ]
    },
    {
      "cell_type": "code",
      "execution_count": null,
      "metadata": {
        "id": "hOe-aK5-xGpy"
      },
      "outputs": [],
      "source": []
    },
    {
      "cell_type": "markdown",
      "metadata": {
        "id": "KY_sF233xGpy"
      },
      "source": [
        "<h3 id='Exploratory_Graph'>4. Exploratory Data Analysis - Graphical <h6><a href='#top'>Back to top</a></h6></h3>"
      ]
    },
    {
      "cell_type": "code",
      "execution_count": null,
      "metadata": {
        "id": "vSXt_2YmxGpy"
      },
      "outputs": [],
      "source": []
    },
    {
      "cell_type": "markdown",
      "metadata": {
        "id": "JC8M3Co8xGpy"
      },
      "source": [
        "<h3 id='Modeling'>5. Modeling <h6><a href='#top'>Back to top</a></h6></h3>"
      ]
    },
    {
      "cell_type": "code",
      "execution_count": null,
      "metadata": {
        "id": "9gqwnhogxGpy"
      },
      "outputs": [],
      "source": []
    },
    {
      "cell_type": "markdown",
      "metadata": {
        "id": "SsSIXeFnxGpz"
      },
      "source": [
        "<h5>5.1 Base Model <h6><a href='#top'>Back to top</a></h6></h5>"
      ]
    },
    {
      "cell_type": "code",
      "execution_count": null,
      "metadata": {
        "id": "CUeHnXoqxGpz"
      },
      "outputs": [],
      "source": []
    },
    {
      "cell_type": "markdown",
      "metadata": {
        "id": "wGWscgnUxGpz"
      },
      "source": [
        "<h3 id='Model_Eval'>6. Model Evaluation <h6><a href='#top'>Back to top</a></h6></h3>"
      ]
    },
    {
      "cell_type": "code",
      "execution_count": null,
      "metadata": {
        "id": "lPrJnMJJxGpz"
      },
      "outputs": [],
      "source": []
    },
    {
      "cell_type": "markdown",
      "metadata": {
        "id": "NZIAI1oTxGpz"
      },
      "source": [
        "<h3 id='Conclusion'>7. Conclusion <h6><a href='#top'>Back to top</a></h6></h3>"
      ]
    },
    {
      "cell_type": "code",
      "execution_count": null,
      "metadata": {
        "id": "bz9ngtxlxGp0"
      },
      "outputs": [],
      "source": []
    },
    {
      "cell_type": "markdown",
      "metadata": {
        "id": "kvhxBQXGxGp0"
      },
      "source": [
        "<h3 id='Acknowledge'>8. Acknowledgements <h6><a href='#top'>Back to top</a></h6></h3>"
      ]
    },
    {
      "cell_type": "code",
      "execution_count": null,
      "metadata": {
        "id": "TbXW-opNxGp0"
      },
      "outputs": [],
      "source": []
    }
  ],
  "metadata": {
    "kernelspec": {
      "display_name": "snowflakes",
      "language": "python",
      "name": "python3"
    },
    "language_info": {
      "name": "python",
      "version": "3.10.6"
    },
    "orig_nbformat": 4,
    "vscode": {
      "interpreter": {
        "hash": "95937ace7fc96b1e24ccc9c73bcc0ffc54b30821bcbc76d6eb7b52d14757cf6f"
      }
    },
    "colab": {
      "provenance": []
    }
  },
  "nbformat": 4,
  "nbformat_minor": 0
}